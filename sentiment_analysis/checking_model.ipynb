{
 "cells": [
  {
   "cell_type": "code",
   "execution_count": 9,
   "id": "c319fa95-1c0e-4719-a685-e62c8363547a",
   "metadata": {},
   "outputs": [
    {
     "name": "stderr",
     "output_type": "stream",
     "text": [
      "[nltk_data] Downloading package punkt to\n",
      "[nltk_data]     C:\\Users\\paulb\\AppData\\Roaming\\nltk_data...\n",
      "[nltk_data]   Package punkt is already up-to-date!\n",
      "[nltk_data] Downloading package stopwords to\n",
      "[nltk_data]     C:\\Users\\paulb\\AppData\\Roaming\\nltk_data...\n",
      "[nltk_data]   Package stopwords is already up-to-date!\n"
     ]
    }
   ],
   "source": [
    "import pickle\n",
    "import numpy as np\n",
    "import nltk\n",
    "nltk.download('punkt')\n",
    "from nltk.corpus import stopwords\n",
    "nltk.download('stopwords')\n",
    "from nltk.stem import PorterStemmer\n",
    "import string"
   ]
  },
  {
   "cell_type": "code",
   "execution_count": 7,
   "id": "f4f14f75-68ca-481e-bcac-e396ade6c0d7",
   "metadata": {},
   "outputs": [],
   "source": [
    "def transform_text(texts):\n",
    "    transformed_texts = []\n",
    "    for text in texts:\n",
    "        text = text.lower()   # lower casing\n",
    "        text = nltk.word_tokenize(text)  # tokenization\n",
    "        y = []\n",
    "        for i in text:   # remove special characters\n",
    "            if i.isalnum():\n",
    "                y.append(i)\n",
    "        text = y.copy()\n",
    "        y.clear()\n",
    "        for i in text:   # removing stopwords\n",
    "            if i not in stopwords.words(\"english\") :\n",
    "                y.append(i)\n",
    "        ps = PorterStemmer()  # for stemming\n",
    "        text = y.copy()\n",
    "        y.clear()\n",
    "        for i in text:\n",
    "            y.append(ps.stem(i))\n",
    "        transformed_texts.append(\" \".join(y))\n",
    "        \n",
    "    transformed_texts = np.array(transformed_texts)\n",
    "    return np.array(transformed_texts)"
   ]
  },
  {
   "cell_type": "code",
   "execution_count": 4,
   "id": "7228758f-8089-4831-9d1e-34474aee2b72",
   "metadata": {},
   "outputs": [],
   "source": [
    "with open(\"model.pkl\", \"rb\") as f:\n",
    "    model = pickle.load(f)"
   ]
  },
  {
   "cell_type": "code",
   "execution_count": 15,
   "id": "d546125b-7695-4049-9daa-40dfb00d7992",
   "metadata": {},
   "outputs": [
    {
     "data": {
      "text/plain": [
       "array([1])"
      ]
     },
     "execution_count": 15,
     "metadata": {},
     "output_type": "execute_result"
    }
   ],
   "source": [
    "model.predict([\"Some of the concepts used in projects were beyond the scope of what was taught.\"])"
   ]
  },
  {
   "cell_type": "code",
   "execution_count": 16,
   "id": "dbe50e02-c4c9-4dcb-9f80-6766446cc2f8",
   "metadata": {},
   "outputs": [
    {
     "data": {
      "text/plain": [
       "array([1])"
      ]
     },
     "execution_count": 16,
     "metadata": {},
     "output_type": "execute_result"
    }
   ],
   "source": [
    "model.predict([\"In general the course content is superficial and lacks continuity, in part due to the segmentation of course content. Also lacking, in my opinion, are examples of original code based on practical real world examples that can be downloaded and used as a starting point for student experimentation. Some of the code that was presented came from a site well known to Python programmers. Learning Python from that site or similar ones would have been more efficient and consumed less time.\"])"
   ]
  },
  {
   "cell_type": "code",
   "execution_count": 18,
   "id": "453695b8-cc59-4525-99f1-742c048a9057",
   "metadata": {},
   "outputs": [
    {
     "data": {
      "text/plain": [
       "array([1])"
      ]
     },
     "execution_count": 18,
     "metadata": {},
     "output_type": "execute_result"
    }
   ],
   "source": [
    "model.predict([\"It's okay but lecturer needs better communication skills in English language\"])"
   ]
  },
  {
   "cell_type": "code",
   "execution_count": 19,
   "id": "b04fa350-056f-4932-b94b-9116724d3786",
   "metadata": {},
   "outputs": [
    {
     "data": {
      "text/plain": [
       "array([0])"
      ]
     },
     "execution_count": 19,
     "metadata": {},
     "output_type": "execute_result"
    }
   ],
   "source": [
    "model.predict([\"video quality and voice quality both are good and the lecture all so explaining everything very well so I'm so interested to see upcoming videos\"])"
   ]
  },
  {
   "cell_type": "code",
   "execution_count": 25,
   "id": "16f56f1f-900b-45c4-b1e1-c95f42d32ceb",
   "metadata": {},
   "outputs": [
    {
     "data": {
      "text/plain": [
       "array([1])"
      ]
     },
     "execution_count": 25,
     "metadata": {},
     "output_type": "execute_result"
    }
   ],
   "source": [
    "model.predict([\"I'm actually building and mapping different concepts together.\\\n",
    "I remade my own version of the die simulator and I used the datetime library and also wrote into a text file.I built it again \\\n",
    "and it's beautiful.This dictionary app, I am feeling excited about it already.\"])"
   ]
  },
  {
   "cell_type": "code",
   "execution_count": 26,
   "id": "360f8525-d02f-4272-8934-700c6c0c6aa7",
   "metadata": {},
   "outputs": [
    {
     "data": {
      "text/plain": [
       "array([0])"
      ]
     },
     "execution_count": 26,
     "metadata": {},
     "output_type": "execute_result"
    }
   ],
   "source": [
    "model.predict([\"Very good and learnable for my Carrer. I love this course a lot. Thank you so much for your effort.\"])"
   ]
  }
 ],
 "metadata": {
  "kernelspec": {
   "display_name": "Python 3 (ipykernel)",
   "language": "python",
   "name": "python3"
  },
  "language_info": {
   "codemirror_mode": {
    "name": "ipython",
    "version": 3
   },
   "file_extension": ".py",
   "mimetype": "text/x-python",
   "name": "python",
   "nbconvert_exporter": "python",
   "pygments_lexer": "ipython3",
   "version": "3.10.10"
  }
 },
 "nbformat": 4,
 "nbformat_minor": 5
}
